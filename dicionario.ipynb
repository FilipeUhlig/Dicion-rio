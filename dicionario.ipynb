{
 "cells": [
  {
   "cell_type": "markdown",
   "id": "115f7bc6",
   "metadata": {},
   "source": [
    "# Dicionários"
   ]
  },
  {
   "cell_type": "code",
   "execution_count": 2,
   "id": "54ad88f5",
   "metadata": {},
   "outputs": [],
   "source": [
    "#Criando um dicionário\n",
    "\n",
    "tabela = {\"Arroz\" : 0.5, \"Batata\" : 0.2, \"Carne\" : 0.1}"
   ]
  },
  {
   "cell_type": "code",
   "execution_count": 3,
   "id": "869fe17e",
   "metadata": {},
   "outputs": [
    {
     "name": "stdout",
     "output_type": "stream",
     "text": [
      "0.5\n"
     ]
    }
   ],
   "source": [
    "#Acessando dados no dicionário\n",
    "\n",
    "print(tabela[\"Arroz\"])"
   ]
  },
  {
   "cell_type": "code",
   "execution_count": 4,
   "id": "8cc78515",
   "metadata": {},
   "outputs": [
    {
     "name": "stdout",
     "output_type": "stream",
     "text": [
      "0.2\n"
     ]
    }
   ],
   "source": [
    "print(tabela[\"Batata\"])\n"
   ]
  },
  {
   "cell_type": "code",
   "execution_count": 5,
   "id": "d6536efe",
   "metadata": {},
   "outputs": [
    {
     "data": {
      "text/plain": [
       "3"
      ]
     },
     "execution_count": 5,
     "metadata": {},
     "output_type": "execute_result"
    }
   ],
   "source": [
    "len(tabela) #Tamanho do dicionário"
   ]
  },
  {
   "cell_type": "code",
   "execution_count": 6,
   "id": "ae87f4ff",
   "metadata": {},
   "outputs": [
    {
     "data": {
      "text/plain": [
       "['Arroz', 'Batata', 'Carne']"
      ]
     },
     "execution_count": 6,
     "metadata": {},
     "output_type": "execute_result"
    }
   ],
   "source": [
    "list(tabela) #Chaves do dicionário"
   ]
  },
  {
   "cell_type": "code",
   "execution_count": null,
   "id": "818bea51",
   "metadata": {},
   "outputs": [],
   "source": []
  }
 ],
 "metadata": {
  "kernelspec": {
   "display_name": "Python 3 (ipykernel)",
   "language": "python",
   "name": "python3"
  },
  "language_info": {
   "codemirror_mode": {
    "name": "ipython",
    "version": 3
   },
   "file_extension": ".py",
   "mimetype": "text/x-python",
   "name": "python",
   "nbconvert_exporter": "python",
   "pygments_lexer": "ipython3",
   "version": "3.10.9"
  }
 },
 "nbformat": 4,
 "nbformat_minor": 5
}
